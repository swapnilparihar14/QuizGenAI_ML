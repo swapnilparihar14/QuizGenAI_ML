{
 "cells": [
  {
   "cell_type": "code",
   "execution_count": null,
   "metadata": {},
   "outputs": [],
   "source": [
    "#pip install rouge-score"
   ]
  },
  {
   "cell_type": "code",
   "execution_count": 1,
   "metadata": {},
   "outputs": [],
   "source": [
    "import nltk\n",
    "from nltk.translate.bleu_score import sentence_bleu\n",
    "from rouge_score import rouge_scorer"
   ]
  },
  {
   "cell_type": "code",
   "execution_count": 18,
   "metadata": {},
   "outputs": [],
   "source": [
    "class EvaluationMethods:\n",
    "    \"\"\" Single responsibility of generating Known evaluation metric scores\"\"\"\n",
    "\n",
    "    @classmethod\n",
    "    def bleu_score(cls, reference, candidate, weight=(1, 0, 0, 0)):\n",
    "        \"\"\"Return the bleu score of the inout senteces \n",
    "            @input: (reference,candidate)- Two sentences that to compare\n",
    "            @Hyperparameter: (weights) - A tuple that decides the weightage of unigrams,bigrams and so on\n",
    "            @Output: (result)- The BLEU score for the input text\"\"\"\n",
    "        ref_tokenize = nltk.word_tokenize(reference)\n",
    "        can_tokenize = nltk.word_tokenize(candidate)\n",
    "        score = sentence_bleu([ref_tokenize], can_tokenize, weights=weight)\n",
    "        result = {}\n",
    "        result['bleu'] = score\n",
    "        return result\n",
    "\n",
    "    @classmethod\n",
    "    def rouge_score(cls, reference, candidate):\n",
    "        \"\"\"Return the bleu score of the inout senteces \n",
    "            @input: (reference,candidate)- Two sentences that to compare\n",
    "            @Hyperparameter: (None) \n",
    "            @Output: (result)- The ROUGE score for the input text\"\"\"\n",
    "        scorer = rouge_scorer.RougeScorer(\n",
    "            ['rouge1', 'rougeL'], use_stemmer=True)\n",
    "        scores = scorer.score(reference, candidate)\n",
    "        result = {}\n",
    "        for i in scores:\n",
    "            result[i] = scores[i][2]\n",
    "        return result\n"
   ]
  },
  {
   "cell_type": "code",
   "execution_count": 19,
   "metadata": {},
   "outputs": [
    {
     "name": "stdout",
     "output_type": "stream",
     "text": [
      "{'bleu': 0.14285714285714285}\n"
     ]
    },
    {
     "data": {
      "text/plain": [
       "{'rouge1': 0.7058823529411765, 'rougeL': 0.5882352941176471}"
      ]
     },
     "execution_count": 19,
     "metadata": {},
     "output_type": "execute_result"
    }
   ],
   "source": [
    "t1= 'The quick brown fox jumps over the lazy dog'\n",
    "t2= 'The quick brown dog jumps on the log.'\n",
    "\n",
    "print(EvaluationMethods.bleu_score(t1,t2,(0,0,1,0)))\n",
    "EvaluationMethods.rouge_score(t1,t2)"
   ]
  }
 ],
 "metadata": {
  "kernelspec": {
   "display_name": "Python 3",
   "language": "python",
   "name": "python3"
  },
  "language_info": {
   "codemirror_mode": {
    "name": "ipython",
    "version": 3
   },
   "file_extension": ".py",
   "mimetype": "text/x-python",
   "name": "python",
   "nbconvert_exporter": "python",
   "pygments_lexer": "ipython3",
   "version": "3.8.3"
  }
 },
 "nbformat": 4,
 "nbformat_minor": 4
}
